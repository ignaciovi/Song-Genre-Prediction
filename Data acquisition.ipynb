{
 "cells": [
  {
   "cell_type": "code",
   "execution_count": 1,
   "metadata": {},
   "outputs": [],
   "source": [
    "# Import libraries\n",
    "import pandas as pd\n",
    "import re\n",
    "import matplotlib.pyplot as plt\n",
    "import numpy as np\n",
    "import datetime\n",
    "import random \n",
    "import collections\n",
    "import requests\n",
    "import spotipy.oauth2 as oauth2\n",
    "import time\n",
    "\n",
    "from matplotlib.pyplot import figure\n",
    "from matplotlib import cm\n",
    "\n",
    "# Import initial dataset\n",
    "df = pd.read_csv('songs_dataset.csv')"
   ]
  },
  {
   "cell_type": "code",
   "execution_count": 2,
   "metadata": {},
   "outputs": [
    {
     "data": {
      "text/html": [
       "<div>\n",
       "<style scoped>\n",
       "    .dataframe tbody tr th:only-of-type {\n",
       "        vertical-align: middle;\n",
       "    }\n",
       "\n",
       "    .dataframe tbody tr th {\n",
       "        vertical-align: top;\n",
       "    }\n",
       "\n",
       "    .dataframe thead th {\n",
       "        text-align: right;\n",
       "    }\n",
       "</style>\n",
       "<table border=\"1\" class=\"dataframe\">\n",
       "  <thead>\n",
       "    <tr style=\"text-align: right;\">\n",
       "      <th></th>\n",
       "      <th>index</th>\n",
       "      <th>song</th>\n",
       "      <th>year</th>\n",
       "      <th>artist</th>\n",
       "      <th>genre</th>\n",
       "      <th>lyrics</th>\n",
       "    </tr>\n",
       "  </thead>\n",
       "  <tbody>\n",
       "    <tr>\n",
       "      <td>0</td>\n",
       "      <td>0</td>\n",
       "      <td>ego-remix</td>\n",
       "      <td>2009</td>\n",
       "      <td>beyonce-knowles</td>\n",
       "      <td>Pop</td>\n",
       "      <td>Oh baby, how you doing?\\nYou know I'm gonna cu...</td>\n",
       "    </tr>\n",
       "    <tr>\n",
       "      <td>1</td>\n",
       "      <td>1</td>\n",
       "      <td>then-tell-me</td>\n",
       "      <td>2009</td>\n",
       "      <td>beyonce-knowles</td>\n",
       "      <td>Pop</td>\n",
       "      <td>playin' everything so easy,\\nit's like you see...</td>\n",
       "    </tr>\n",
       "    <tr>\n",
       "      <td>2</td>\n",
       "      <td>2</td>\n",
       "      <td>honesty</td>\n",
       "      <td>2009</td>\n",
       "      <td>beyonce-knowles</td>\n",
       "      <td>Pop</td>\n",
       "      <td>If you search\\nFor tenderness\\nIt isn't hard t...</td>\n",
       "    </tr>\n",
       "    <tr>\n",
       "      <td>3</td>\n",
       "      <td>3</td>\n",
       "      <td>you-are-my-rock</td>\n",
       "      <td>2009</td>\n",
       "      <td>beyonce-knowles</td>\n",
       "      <td>Pop</td>\n",
       "      <td>Oh oh oh I, oh oh oh I\\n[Verse 1:]\\nIf I wrote...</td>\n",
       "    </tr>\n",
       "    <tr>\n",
       "      <td>4</td>\n",
       "      <td>4</td>\n",
       "      <td>black-culture</td>\n",
       "      <td>2009</td>\n",
       "      <td>beyonce-knowles</td>\n",
       "      <td>Pop</td>\n",
       "      <td>Party the people, the people the party it's po...</td>\n",
       "    </tr>\n",
       "  </tbody>\n",
       "</table>\n",
       "</div>"
      ],
      "text/plain": [
       "   index             song  year           artist genre  \\\n",
       "0      0        ego-remix  2009  beyonce-knowles   Pop   \n",
       "1      1     then-tell-me  2009  beyonce-knowles   Pop   \n",
       "2      2          honesty  2009  beyonce-knowles   Pop   \n",
       "3      3  you-are-my-rock  2009  beyonce-knowles   Pop   \n",
       "4      4    black-culture  2009  beyonce-knowles   Pop   \n",
       "\n",
       "                                              lyrics  \n",
       "0  Oh baby, how you doing?\\nYou know I'm gonna cu...  \n",
       "1  playin' everything so easy,\\nit's like you see...  \n",
       "2  If you search\\nFor tenderness\\nIt isn't hard t...  \n",
       "3  Oh oh oh I, oh oh oh I\\n[Verse 1:]\\nIf I wrote...  \n",
       "4  Party the people, the people the party it's po...  "
      ]
     },
     "execution_count": 2,
     "metadata": {},
     "output_type": "execute_result"
    }
   ],
   "source": [
    "df.head()"
   ]
  },
  {
   "cell_type": "code",
   "execution_count": 3,
   "metadata": {
    "scrolled": true
   },
   "outputs": [
    {
     "data": {
      "text/plain": [
       "[('Rock', 131377),\n",
       " ('Pop', 49444),\n",
       " ('Hip-Hop', 33965),\n",
       " ('Not Available', 29814),\n",
       " ('Metal', 28408),\n",
       " ('Other', 23683),\n",
       " ('Country', 17286),\n",
       " ('Jazz', 17147),\n",
       " ('Electronic', 16205),\n",
       " ('R&B', 5935),\n",
       " ('Indie', 5732),\n",
       " ('Folk', 3241)]"
      ]
     },
     "execution_count": 3,
     "metadata": {},
     "output_type": "execute_result"
    }
   ],
   "source": [
    "# We will take song, artist and genre for our analysis\n",
    "# Count total number of tracks per genre in the dataset\n",
    "counter = collections.Counter(df[\"genre\"].values)\n",
    "counter.most_common()"
   ]
  },
  {
   "cell_type": "code",
   "execution_count": 4,
   "metadata": {},
   "outputs": [],
   "source": [
    "# We will take 8 basic genres: Rock, Pop, Hip Hop, Metal, Country, Jazz, Electronic, R&B\n",
    "# We drop \"Not Available\" and \"Other\" since they dont give value to the prediction\n",
    "# Drop \"Indie\" and \"Folk\" to simplify the problem"
   ]
  },
  {
   "cell_type": "code",
   "execution_count": 5,
   "metadata": {},
   "outputs": [],
   "source": [
    "# First we perform data cleaning. We will delete the tracks that have missing values\n",
    "df = df.dropna()"
   ]
  },
  {
   "cell_type": "code",
   "execution_count": 6,
   "metadata": {},
   "outputs": [
    {
     "data": {
      "text/plain": [
       "[('Rock', 109235),\n",
       " ('Pop', 40466),\n",
       " ('Hip-Hop', 24850),\n",
       " ('Not Available', 23941),\n",
       " ('Metal', 23759),\n",
       " ('Country', 14387),\n",
       " ('Jazz', 7970),\n",
       " ('Electronic', 7966),\n",
       " ('Other', 5189),\n",
       " ('R&B', 3401),\n",
       " ('Indie', 3149),\n",
       " ('Folk', 2243)]"
      ]
     },
     "execution_count": 6,
     "metadata": {},
     "output_type": "execute_result"
    }
   ],
   "source": [
    "# Count again\n",
    "counter=collections.Counter(df[\"genre\"].values)\n",
    "counter.most_common()"
   ]
  },
  {
   "cell_type": "code",
   "execution_count": 7,
   "metadata": {},
   "outputs": [],
   "source": [
    "# Now we will take random 2000 tracks for each genre\n",
    "# By randomising we avoid having the same artist repeated a lot, assuming that the more variety of artists the better the\n",
    "# prediction\n",
    "list_genres = [\"Rock\", \"Pop\", \"Hip-Hop\", \"Metal\", \"Country\", \"Jazz\", \"Electronic\", \"R&B\"]\n",
    "reduced_df = pd.DataFrame()\n",
    "\n",
    "for genre in list_genres:\n",
    "    random_index = random.sample(range(1, len(df[df[\"genre\"] == genre])), 2000)\n",
    "    reduced_df = reduced_df.append(df[df[\"genre\"] == genre].reset_index().iloc[random_index])"
   ]
  },
  {
   "cell_type": "code",
   "execution_count": 8,
   "metadata": {},
   "outputs": [
    {
     "data": {
      "text/plain": [
       "[('Rock', 2000),\n",
       " ('Pop', 2000),\n",
       " ('Hip-Hop', 2000),\n",
       " ('Metal', 2000),\n",
       " ('Country', 2000),\n",
       " ('Jazz', 2000),\n",
       " ('Electronic', 2000),\n",
       " ('R&B', 2000)]"
      ]
     },
     "execution_count": 8,
     "metadata": {},
     "output_type": "execute_result"
    }
   ],
   "source": [
    "counter=collections.Counter(reduced_df[\"genre\"].values)\n",
    "counter.most_common()"
   ]
  },
  {
   "cell_type": "code",
   "execution_count": 9,
   "metadata": {},
   "outputs": [],
   "source": [
    "reduced_df = reduced_df.reset_index(drop=True)"
   ]
  },
  {
   "cell_type": "code",
   "execution_count": 10,
   "metadata": {},
   "outputs": [
    {
     "data": {
      "text/html": [
       "<div>\n",
       "<style scoped>\n",
       "    .dataframe tbody tr th:only-of-type {\n",
       "        vertical-align: middle;\n",
       "    }\n",
       "\n",
       "    .dataframe tbody tr th {\n",
       "        vertical-align: top;\n",
       "    }\n",
       "\n",
       "    .dataframe thead th {\n",
       "        text-align: right;\n",
       "    }\n",
       "</style>\n",
       "<table border=\"1\" class=\"dataframe\">\n",
       "  <thead>\n",
       "    <tr style=\"text-align: right;\">\n",
       "      <th></th>\n",
       "      <th>level_0</th>\n",
       "      <th>index</th>\n",
       "      <th>song</th>\n",
       "      <th>year</th>\n",
       "      <th>artist</th>\n",
       "      <th>genre</th>\n",
       "      <th>lyrics</th>\n",
       "    </tr>\n",
       "  </thead>\n",
       "  <tbody>\n",
       "    <tr>\n",
       "      <td>0</td>\n",
       "      <td>229979</td>\n",
       "      <td>229979</td>\n",
       "      <td>cold-hearted-man</td>\n",
       "      <td>2009</td>\n",
       "      <td>ac-dc</td>\n",
       "      <td>Rock</td>\n",
       "      <td>No one knew\\nWhere he came from\\nHe never knew...</td>\n",
       "    </tr>\n",
       "    <tr>\n",
       "      <td>1</td>\n",
       "      <td>155672</td>\n",
       "      <td>155672</td>\n",
       "      <td>midnight-clear-love-song</td>\n",
       "      <td>2015</td>\n",
       "      <td>chris-tomlin</td>\n",
       "      <td>Rock</td>\n",
       "      <td>It came upon the midnight clear\\nThat glorious...</td>\n",
       "    </tr>\n",
       "    <tr>\n",
       "      <td>2</td>\n",
       "      <td>45259</td>\n",
       "      <td>45259</td>\n",
       "      <td>money-for-nothing</td>\n",
       "      <td>1985</td>\n",
       "      <td>dire-straits</td>\n",
       "      <td>Rock</td>\n",
       "      <td>(I want my MTV)\\nNow look at them yo-yo's that...</td>\n",
       "    </tr>\n",
       "    <tr>\n",
       "      <td>3</td>\n",
       "      <td>327678</td>\n",
       "      <td>327678</td>\n",
       "      <td>beautiful-world</td>\n",
       "      <td>2008</td>\n",
       "      <td>carolina-liar</td>\n",
       "      <td>Rock</td>\n",
       "      <td>Here it comes in the morning\\nI'm just trying ...</td>\n",
       "    </tr>\n",
       "    <tr>\n",
       "      <td>4</td>\n",
       "      <td>339043</td>\n",
       "      <td>339043</td>\n",
       "      <td>do-you-want-to-dance</td>\n",
       "      <td>2015</td>\n",
       "      <td>cliff-richard</td>\n",
       "      <td>Rock</td>\n",
       "      <td>Well, do you want to dance and hold my hand?\\n...</td>\n",
       "    </tr>\n",
       "  </tbody>\n",
       "</table>\n",
       "</div>"
      ],
      "text/plain": [
       "   level_0   index                      song  year         artist genre  \\\n",
       "0   229979  229979          cold-hearted-man  2009          ac-dc  Rock   \n",
       "1   155672  155672  midnight-clear-love-song  2015   chris-tomlin  Rock   \n",
       "2    45259   45259         money-for-nothing  1985   dire-straits  Rock   \n",
       "3   327678  327678           beautiful-world  2008  carolina-liar  Rock   \n",
       "4   339043  339043      do-you-want-to-dance  2015  cliff-richard  Rock   \n",
       "\n",
       "                                              lyrics  \n",
       "0  No one knew\\nWhere he came from\\nHe never knew...  \n",
       "1  It came upon the midnight clear\\nThat glorious...  \n",
       "2  (I want my MTV)\\nNow look at them yo-yo's that...  \n",
       "3  Here it comes in the morning\\nI'm just trying ...  \n",
       "4  Well, do you want to dance and hold my hand?\\n...  "
      ]
     },
     "execution_count": 10,
     "metadata": {},
     "output_type": "execute_result"
    }
   ],
   "source": [
    "reduced_df.head()"
   ]
  },
  {
   "cell_type": "code",
   "execution_count": 24,
   "metadata": {},
   "outputs": [],
   "source": [
    "# Next, we will find the features of each track using the Spotify API\n",
    "# 1. Get ID of each track using track and artist names as input\n",
    "# 2. Get features using the ID as input\n",
    "\n",
    "def is_token_expired(token_info):\n",
    "    now = int(time.time())\n",
    "    return token_info['expires_at'] - now < 60\n",
    "\n",
    "# Get token\n",
    "creds = oauth2.SpotifyClientCredentials(client_id=\"YOUR_CLIENT_ID\", client_secret=\"YOUR_CLIENT_SECRET\")\n",
    "token = creds.get_access_token()\n",
    "\n",
    "spotify_track_details = []\n",
    "\n",
    "# For each track\n",
    "for index, row in reduced_df.iterrows():\n",
    "    \n",
    "    # If token is expired, generate another one\n",
    "    if is_token_expired(creds.token_info) == True:\n",
    "        token = creds.get_access_token()\n",
    "            \n",
    "    track = row[\"song\"]\n",
    "    artist = row[\"artist\"]\n",
    "    if row[\"genre\"] == \"Electronic\":\n",
    "        # Request track information\n",
    "        spotify_id_request = requests.get(\n",
    "            \"https://api.spotify.com/v1/search?q=track:{}&artist:{}&type=track\".format(track, artist),\n",
    "            headers={\"Authorization\": \"Bearer {}\".format(token)}).json()\n",
    "\n",
    "        if spotify_id_request[\"tracks\"][\"items\"]:\n",
    "            # Save track ID\n",
    "            track_id = spotify_id_request[\"tracks\"][\"items\"][0][\"id\"]\n",
    "\n",
    "            # Get audio features\n",
    "            spotify_features_request = requests.get(\n",
    "                \"https://api.spotify.com/v1/audio-features/{}\".format(track_id),\n",
    "                headers={\"Authorization\": \"Bearer {}\".format(token)}).json()\n",
    "\n",
    "            if \"error\" not in spotify_features_request.keys():\n",
    "                (spotify_track_details.append([track, artist, row[\"lyrics\"], \n",
    "                        spotify_features_request[\"acousticness\"], spotify_features_request[\"danceability\"], \n",
    "                        spotify_features_request[\"duration_ms\"], spotify_features_request[\"energy\"], \n",
    "                        spotify_features_request[\"instrumentalness\"], spotify_features_request[\"key\"], \n",
    "                        spotify_features_request[\"liveness\"], spotify_features_request[\"loudness\"], \n",
    "                        spotify_features_request[\"mode\"], spotify_features_request[\"speechiness\"], \n",
    "                        spotify_features_request[\"tempo\"], spotify_features_request[\"time_signature\"], \n",
    "                        spotify_features_request[\"valence\"], row[\"genre\"]]))\n"
   ]
  },
  {
   "cell_type": "code",
   "execution_count": 27,
   "metadata": {},
   "outputs": [],
   "source": [
    "detailed_df = pd.DataFrame(spotify_track_details, columns = [\"track\", \"artist\", \"lyrics\", \"acousticness\", \"danceability\", \"duration_ms\", \"energy\", \"instrumentalness\", \"key\", \"liveness\", \"loudness\", \"mode\", \"speechiness\", \"tempo\", \"time_signature\", \"valence\", \"genre\"])"
   ]
  },
  {
   "cell_type": "code",
   "execution_count": 28,
   "metadata": {},
   "outputs": [
    {
     "data": {
      "text/html": [
       "<div>\n",
       "<style scoped>\n",
       "    .dataframe tbody tr th:only-of-type {\n",
       "        vertical-align: middle;\n",
       "    }\n",
       "\n",
       "    .dataframe tbody tr th {\n",
       "        vertical-align: top;\n",
       "    }\n",
       "\n",
       "    .dataframe thead th {\n",
       "        text-align: right;\n",
       "    }\n",
       "</style>\n",
       "<table border=\"1\" class=\"dataframe\">\n",
       "  <thead>\n",
       "    <tr style=\"text-align: right;\">\n",
       "      <th></th>\n",
       "      <th>track</th>\n",
       "      <th>artist</th>\n",
       "      <th>lyrics</th>\n",
       "      <th>acousticness</th>\n",
       "      <th>danceability</th>\n",
       "      <th>duration_ms</th>\n",
       "      <th>energy</th>\n",
       "      <th>instrumentalness</th>\n",
       "      <th>key</th>\n",
       "      <th>liveness</th>\n",
       "      <th>loudness</th>\n",
       "      <th>mode</th>\n",
       "      <th>speechiness</th>\n",
       "      <th>tempo</th>\n",
       "      <th>time_signature</th>\n",
       "      <th>valence</th>\n",
       "      <th>genre</th>\n",
       "    </tr>\n",
       "  </thead>\n",
       "  <tbody>\n",
       "    <tr>\n",
       "      <td>0</td>\n",
       "      <td>hexes</td>\n",
       "      <td>bassnectar</td>\n",
       "      <td>You surprised me with a kiss\\nUnderneath the c...</td>\n",
       "      <td>0.344000</td>\n",
       "      <td>0.865</td>\n",
       "      <td>155147</td>\n",
       "      <td>0.591</td>\n",
       "      <td>0.000008</td>\n",
       "      <td>1</td>\n",
       "      <td>0.2460</td>\n",
       "      <td>-9.331</td>\n",
       "      <td>0</td>\n",
       "      <td>0.1430</td>\n",
       "      <td>82.972</td>\n",
       "      <td>4</td>\n",
       "      <td>0.614</td>\n",
       "      <td>Electronic</td>\n",
       "    </tr>\n",
       "    <tr>\n",
       "      <td>1</td>\n",
       "      <td>affection</td>\n",
       "      <td>crystal-castles</td>\n",
       "      <td>Catch a moth hold it in my hand\\nCrush it casu...</td>\n",
       "      <td>0.516000</td>\n",
       "      <td>0.273</td>\n",
       "      <td>235226</td>\n",
       "      <td>0.565</td>\n",
       "      <td>0.000002</td>\n",
       "      <td>2</td>\n",
       "      <td>0.0855</td>\n",
       "      <td>-7.283</td>\n",
       "      <td>1</td>\n",
       "      <td>0.2480</td>\n",
       "      <td>179.518</td>\n",
       "      <td>4</td>\n",
       "      <td>0.298</td>\n",
       "      <td>Electronic</td>\n",
       "    </tr>\n",
       "    <tr>\n",
       "      <td>2</td>\n",
       "      <td>funkhadafi</td>\n",
       "      <td>front-242</td>\n",
       "      <td>We who are oppressed love those who\\nfight aga...</td>\n",
       "      <td>0.000053</td>\n",
       "      <td>0.558</td>\n",
       "      <td>210213</td>\n",
       "      <td>0.860</td>\n",
       "      <td>0.631000</td>\n",
       "      <td>4</td>\n",
       "      <td>0.7780</td>\n",
       "      <td>-12.459</td>\n",
       "      <td>0</td>\n",
       "      <td>0.0815</td>\n",
       "      <td>117.992</td>\n",
       "      <td>4</td>\n",
       "      <td>0.106</td>\n",
       "      <td>Electronic</td>\n",
       "    </tr>\n",
       "    <tr>\n",
       "      <td>3</td>\n",
       "      <td>lies</td>\n",
       "      <td>burns</td>\n",
       "      <td>You've been cheatin' and tellin' me lies\\nYou'...</td>\n",
       "      <td>0.095600</td>\n",
       "      <td>0.708</td>\n",
       "      <td>201707</td>\n",
       "      <td>0.648</td>\n",
       "      <td>0.000000</td>\n",
       "      <td>6</td>\n",
       "      <td>0.1340</td>\n",
       "      <td>-5.626</td>\n",
       "      <td>1</td>\n",
       "      <td>0.0449</td>\n",
       "      <td>143.955</td>\n",
       "      <td>4</td>\n",
       "      <td>0.338</td>\n",
       "      <td>Electronic</td>\n",
       "    </tr>\n",
       "    <tr>\n",
       "      <td>4</td>\n",
       "      <td>da-funk-daftendirekt</td>\n",
       "      <td>daft-punk</td>\n",
       "      <td>Paul Jonson, DJ Funk, DJ Skull, DJ Rush\\nWaxma...</td>\n",
       "      <td>0.009940</td>\n",
       "      <td>0.676</td>\n",
       "      <td>396973</td>\n",
       "      <td>0.859</td>\n",
       "      <td>0.754000</td>\n",
       "      <td>5</td>\n",
       "      <td>0.9800</td>\n",
       "      <td>-9.602</td>\n",
       "      <td>0</td>\n",
       "      <td>0.0412</td>\n",
       "      <td>111.991</td>\n",
       "      <td>4</td>\n",
       "      <td>0.546</td>\n",
       "      <td>Electronic</td>\n",
       "    </tr>\n",
       "  </tbody>\n",
       "</table>\n",
       "</div>"
      ],
      "text/plain": [
       "                  track           artist  \\\n",
       "0                 hexes       bassnectar   \n",
       "1             affection  crystal-castles   \n",
       "2            funkhadafi        front-242   \n",
       "3                  lies            burns   \n",
       "4  da-funk-daftendirekt        daft-punk   \n",
       "\n",
       "                                              lyrics  acousticness  \\\n",
       "0  You surprised me with a kiss\\nUnderneath the c...      0.344000   \n",
       "1  Catch a moth hold it in my hand\\nCrush it casu...      0.516000   \n",
       "2  We who are oppressed love those who\\nfight aga...      0.000053   \n",
       "3  You've been cheatin' and tellin' me lies\\nYou'...      0.095600   \n",
       "4  Paul Jonson, DJ Funk, DJ Skull, DJ Rush\\nWaxma...      0.009940   \n",
       "\n",
       "   danceability  duration_ms  energy  instrumentalness  key  liveness  \\\n",
       "0         0.865       155147   0.591          0.000008    1    0.2460   \n",
       "1         0.273       235226   0.565          0.000002    2    0.0855   \n",
       "2         0.558       210213   0.860          0.631000    4    0.7780   \n",
       "3         0.708       201707   0.648          0.000000    6    0.1340   \n",
       "4         0.676       396973   0.859          0.754000    5    0.9800   \n",
       "\n",
       "   loudness  mode  speechiness    tempo  time_signature  valence       genre  \n",
       "0    -9.331     0       0.1430   82.972               4    0.614  Electronic  \n",
       "1    -7.283     1       0.2480  179.518               4    0.298  Electronic  \n",
       "2   -12.459     0       0.0815  117.992               4    0.106  Electronic  \n",
       "3    -5.626     1       0.0449  143.955               4    0.338  Electronic  \n",
       "4    -9.602     0       0.0412  111.991               4    0.546  Electronic  "
      ]
     },
     "execution_count": 28,
     "metadata": {},
     "output_type": "execute_result"
    }
   ],
   "source": [
    "detailed_df.head()"
   ]
  },
  {
   "cell_type": "code",
   "execution_count": 29,
   "metadata": {},
   "outputs": [
    {
     "data": {
      "text/plain": [
       "[('Electronic', 1793)]"
      ]
     },
     "execution_count": 29,
     "metadata": {},
     "output_type": "execute_result"
    }
   ],
   "source": [
    "# Check class imbalance for those tracks that didnt have features analysed or werent found in Spotify\n",
    "counter=collections.Counter(detailed_df[\"genre\"].values)\n",
    "counter.most_common()"
   ]
  },
  {
   "cell_type": "code",
   "execution_count": 95,
   "metadata": {},
   "outputs": [],
   "source": [
    "df_processed = pd.DataFrame()\n",
    "for genre in list_genres:\n",
    "    df_processed = df_processed.append(detailed_df[detailed_df[\"genre\"] == genre].iloc[0:1500])"
   ]
  },
  {
   "cell_type": "code",
   "execution_count": 97,
   "metadata": {},
   "outputs": [],
   "source": [
    "df_processed = df_processed.reset_index().drop(\"index\", axis=1)"
   ]
  },
  {
   "cell_type": "code",
   "execution_count": 98,
   "metadata": {},
   "outputs": [
    {
     "data": {
      "text/plain": [
       "[('Rock', 1500),\n",
       " ('Pop', 1500),\n",
       " ('Hip-Hop', 1500),\n",
       " ('Metal', 1500),\n",
       " ('Country', 1500),\n",
       " ('Jazz', 1500),\n",
       " ('Electronic', 1500)]"
      ]
     },
     "execution_count": 98,
     "metadata": {},
     "output_type": "execute_result"
    }
   ],
   "source": [
    "counter=collections.Counter(df_processed[\"genre\"].values)\n",
    "counter.most_common()"
   ]
  },
  {
   "cell_type": "code",
   "execution_count": 99,
   "metadata": {},
   "outputs": [],
   "source": [
    "# Save dataset\n",
    "df_processed.to_csv(\"dataset_reduced.csv\", index=False)"
   ]
  },
  {
   "cell_type": "code",
   "execution_count": null,
   "metadata": {},
   "outputs": [],
   "source": [
    "# Now we will proceed with the analysis and prediction in the other script"
   ]
  }
 ],
 "metadata": {
  "kernelspec": {
   "display_name": "Python 3",
   "language": "python",
   "name": "python3"
  },
  "language_info": {
   "codemirror_mode": {
    "name": "ipython",
    "version": 3
   },
   "file_extension": ".py",
   "mimetype": "text/x-python",
   "name": "python",
   "nbconvert_exporter": "python",
   "pygments_lexer": "ipython3",
   "version": "3.6.9"
  }
 },
 "nbformat": 4,
 "nbformat_minor": 2
}
