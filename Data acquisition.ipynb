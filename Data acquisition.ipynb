{
 "cells": [
  {
   "cell_type": "code",
   "execution_count": null,
   "metadata": {
    "collapsed": true
   },
   "outputs": [],
   "source": [
    "# Import libraries\n",
    "import pandas as pd\n",
    "import re\n",
    "import matplotlib.pyplot as plt\n",
    "import numpy as np\n",
    "import datetime\n",
    "import random \n",
    "import collections\n",
    "import requests\n",
    "import spotipy.oauth2 as oauth2\n",
    "import time\n",
    "\n",
    "from matplotlib.pyplot import figure\n",
    "from matplotlib import cm\n",
    "\n",
    "# Import initial dataset\n",
    "df = pd.read_csv('songs_dataset.csv')"
   ]
  },
  {
   "cell_type": "code",
   "execution_count": null,
   "metadata": {},
   "outputs": [],
   "source": [
    "df.head()"
   ]
  },
  {
   "cell_type": "code",
   "execution_count": null,
   "metadata": {
    "scrolled": true
   },
   "outputs": [],
   "source": [
    "# Count total number of tracks per genre in the dataset\n",
    "counter=collections.Counter(df[\"genre\"].values)\n",
    "counter.most_common()"
   ]
  },
  {
   "cell_type": "code",
   "execution_count": null,
   "metadata": {
    "collapsed": true
   },
   "outputs": [],
   "source": [
    "# We will take 8 basic genres Rock, Pop, Hip Hop, Metal, Country, Jazz, Electronic, R&B\n",
    "# We drop \"Not Available\" and \"Other\" since they dont give value to the prediction\n",
    "# Drop \"Indie\" and \"Folk\" to simplify the problem"
   ]
  },
  {
   "cell_type": "code",
   "execution_count": null,
   "metadata": {
    "collapsed": true
   },
   "outputs": [],
   "source": [
    "# First we perform data cleaning. We will delete the tracks that have missing values\n",
    "df = df.dropna()"
   ]
  },
  {
   "cell_type": "code",
   "execution_count": null,
   "metadata": {},
   "outputs": [],
   "source": [
    "# Count again\n",
    "counter=collections.Counter(df[\"genre\"].values)\n",
    "counter.most_common()"
   ]
  },
  {
   "cell_type": "code",
   "execution_count": null,
   "metadata": {
    "collapsed": true
   },
   "outputs": [],
   "source": [
    "# Now we will take random 1000 tracks for each genre\n",
    "# By randomising we avoid having the same artist repeated a lot, assuming that the more variety of artists the better the\n",
    "# prediction\n",
    "list_genres = [\"Rock\", \"Pop\", \"Hip-Hop\", \"Metal\", \"Country\", \"Jazz\", \"Electronic\", \"R&B\"]\n",
    "reduced_df = pd.DataFrame()\n",
    "\n",
    "for genre in list_genres:\n",
    "    random_index = random.sample(range(1, len(df[df[\"genre\"] == genre])), 1000)\n",
    "    reduced_df = reduced_df.append(df[df[\"genre\"] == genre].reset_index().iloc[random_index])"
   ]
  },
  {
   "cell_type": "code",
   "execution_count": null,
   "metadata": {},
   "outputs": [],
   "source": [
    "counter=collections.Counter(reduced_df[\"genre\"].values)\n",
    "counter.most_common()"
   ]
  },
  {
   "cell_type": "code",
   "execution_count": null,
   "metadata": {
    "collapsed": true
   },
   "outputs": [],
   "source": [
    "reduced_df = reduced_df.reset_index(drop=True)"
   ]
  },
  {
   "cell_type": "code",
   "execution_count": null,
   "metadata": {},
   "outputs": [],
   "source": [
    "reduced_df.head()"
   ]
  },
  {
   "cell_type": "code",
   "execution_count": null,
   "metadata": {},
   "outputs": [],
   "source": [
    "# Next, we will the features of each track using the Spotify API\n",
    "# 1. Get ID of each track using track and artist names as input\n",
    "# 2. Get features using the ID as input\n",
    "\n",
    "def is_token_expired(token_info):\n",
    "    now = int(time.time())\n",
    "    return token_info['expires_at'] - now < 60\n",
    "\n",
    "# Get token\n",
    "creds = oauth2.SpotifyClientCredentials(client_id=\"c2d07b756064444495ab44c7d14d4a81\", client_secret=\"c6bae7d2398d4098b0d1435d7a7cf486\")\n",
    "token = creds.get_access_token()\n",
    "\n",
    "spotify_track_details = []\n",
    "\n",
    "# For each track\n",
    "for index, row in reduced_df.iterrows():\n",
    "    \n",
    "    # If token is expired, generate another one\n",
    "    if is_token_expired(creds.token_info) == True:\n",
    "        token = creds.get_access_token()\n",
    "            \n",
    "    track = row[\"song\"]\n",
    "    artist = row[\"artist\"]\n",
    "    \n",
    "    # Request track information\n",
    "    spotify_id_request = requests.get(\n",
    "        \"https://api.spotify.com/v1/search?q=track:{}&artist:{}&type=track\".format(track, artist),\n",
    "        headers={\"Authorization\": \"Bearer {}\".format(token)}).json()\n",
    "    \n",
    "    if spotify_id_request[\"tracks\"][\"items\"]:\n",
    "        # Save track ID\n",
    "        track_id = spotify_id_request[\"tracks\"][\"items\"][0][\"id\"]\n",
    "        \n",
    "        # Get audio features\n",
    "        spotify_features_request = requests.get(\n",
    "            \"https://api.spotify.com/v1/audio-features/{}\".format(track_id),\n",
    "            headers={\"Authorization\": \"Bearer {}\".format(token)}).json()\n",
    "        \n",
    "        if \"error\" not in spotify_features_request.keys():\n",
    "            \n",
    "            (spotify_track_details.append([track, artist, row[\"lyrics\"], \n",
    "                    spotify_features_request[\"acousticness\"], spotify_features_request[\"danceability\"], \n",
    "                    spotify_features_request[\"duration_ms\"], spotify_features_request[\"energy\"], \n",
    "                    spotify_features_request[\"instrumentalness\"], spotify_features_request[\"key\"], \n",
    "                    spotify_features_request[\"liveness\"], spotify_features_request[\"loudness\"], \n",
    "                    spotify_features_request[\"mode\"], spotify_features_request[\"speechiness\"], \n",
    "                    spotify_features_request[\"tempo\"], spotify_features_request[\"time_signature\"], \n",
    "                    spotify_features_request[\"valence\"], row[\"genre\"]]))\n"
   ]
  },
  {
   "cell_type": "code",
   "execution_count": null,
   "metadata": {
    "collapsed": true
   },
   "outputs": [],
   "source": [
    "detailed_df = pd.DataFrame(spotify_track_details, columns = [\"track\", \"artist\", \"lyrics\", \"acousticness\", \"danceability\", \"duration_ms\", \"energy\", \"instrumentalness\", \"key\", \"liveness\", \"loudness\", \"mode\", \"speechiness\", \"tempo\", \"time_signature\", \"valence\", \"genre\"])"
   ]
  },
  {
   "cell_type": "code",
   "execution_count": null,
   "metadata": {
    "collapsed": true
   },
   "outputs": [],
   "source": [
    "detailed_df.head()"
   ]
  },
  {
   "cell_type": "code",
   "execution_count": null,
   "metadata": {
    "collapsed": true
   },
   "outputs": [],
   "source": [
    "# Check class imbalance for those tracks that didnt have features analysed or werent found in Spotify\n",
    "counter=collections.Counter(detailed_df[\"genre\"].values)\n",
    "counter.most_common()"
   ]
  },
  {
   "cell_type": "code",
   "execution_count": null,
   "metadata": {
    "collapsed": true
   },
   "outputs": [],
   "source": [
    "# Even the fact that there is some imbalance in the dataset, this is not significant and we progress with it\n",
    "# Save dataset\n",
    "detailed_df.to_csv(\"dataset.csv\", index=False)"
   ]
  },
  {
   "cell_type": "code",
   "execution_count": null,
   "metadata": {
    "collapsed": true
   },
   "outputs": [],
   "source": [
    "# Now we will proceed with the analysis and prediction in the other script"
   ]
  },
  {
   "cell_type": "code",
   "execution_count": null,
   "metadata": {},
   "outputs": [],
   "source": [
    "# Request track information\n",
    "spotify_id_request = requests.get(\n",
    "        \"https://api.spotify.com/v1/search?q=track:{}&artist:{}&type=track\".format(\"bohemian rapsody - remastered\", \"queen\"),\n",
    "        headers={\"Authorization\": \"Bearer {}\".format(token)}).json()"
   ]
  },
  {
   "cell_type": "code",
   "execution_count": null,
   "metadata": {},
   "outputs": [],
   "source": [
    "spotify_id_request"
   ]
  },
  {
   "cell_type": "code",
   "execution_count": null,
   "metadata": {
    "collapsed": true
   },
   "outputs": [],
   "source": []
  }
 ],
 "metadata": {
  "kernelspec": {
   "display_name": "Python 3",
   "language": "python",
   "name": "python3"
  },
  "language_info": {
   "codemirror_mode": {
    "name": "ipython",
    "version": 3
   },
   "file_extension": ".py",
   "mimetype": "text/x-python",
   "name": "python",
   "nbconvert_exporter": "python",
   "pygments_lexer": "ipython3",
   "version": "3.6.6"
  }
 },
 "nbformat": 4,
 "nbformat_minor": 2
}
